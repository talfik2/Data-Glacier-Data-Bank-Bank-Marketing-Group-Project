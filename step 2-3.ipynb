{
 "cells": [
  {
   "cell_type": "markdown",
   "metadata": {
    "id": "Ge5nKYaRMy9d"
   },
   "source": [
    "## STEP 2: DATA UNDERSTANDING"
   ]
  },
  {
   "cell_type": "code",
   "execution_count": 1,
   "metadata": {},
   "outputs": [],
   "source": [
    "import pandas as pd\n",
    "import numpy as np\n",
    "import matplotlib.pyplot as plt\n",
    "%matplotlib inline\n",
    "import seaborn as sns"
   ]
  },
  {
   "cell_type": "code",
   "execution_count": 2,
   "metadata": {
    "id": "IN9kOH6sN_Xb"
   },
   "outputs": [],
   "source": [
    "df = pd.read_csv(\"C:\\\\Users\\\\talfi\\\\python\\\\dataglacier\\\\w7\\\\bank\\\\bank-full.csv\", sep = \";\")"
   ]
  },
  {
   "cell_type": "code",
   "execution_count": 3,
   "metadata": {
    "colab": {
     "base_uri": "https://localhost:8080/"
    },
    "id": "Qiw5dH2PODlj",
    "outputId": "0cf0d2d2-af29-46fb-8d22-425ab39af5b6"
   },
   "outputs": [
    {
     "data": {
      "text/plain": [
       "(45211, 17)"
      ]
     },
     "execution_count": 3,
     "metadata": {
      "tags": []
     },
     "output_type": "execute_result"
    }
   ],
   "source": [
    "row = df.shape[0]\n",
    "col = df.shape[1]\n",
    "df.shape"
   ]
  },
  {
   "cell_type": "code",
   "execution_count": 4,
   "metadata": {
    "colab": {
     "base_uri": "https://localhost:8080/",
     "height": 204
    },
    "id": "nh7BeR4_OLgo",
    "outputId": "fef4a63a-15a1-4e69-fc87-e031c215a5e3"
   },
   "outputs": [
    {
     "data": {
      "text/html": [
       "<div>\n",
       "<style scoped>\n",
       "    .dataframe tbody tr th:only-of-type {\n",
       "        vertical-align: middle;\n",
       "    }\n",
       "\n",
       "    .dataframe tbody tr th {\n",
       "        vertical-align: top;\n",
       "    }\n",
       "\n",
       "    .dataframe thead th {\n",
       "        text-align: right;\n",
       "    }\n",
       "</style>\n",
       "<table border=\"1\" class=\"dataframe\">\n",
       "  <thead>\n",
       "    <tr style=\"text-align: right;\">\n",
       "      <th></th>\n",
       "      <th>age</th>\n",
       "      <th>job</th>\n",
       "      <th>marital</th>\n",
       "      <th>education</th>\n",
       "      <th>default</th>\n",
       "      <th>balance</th>\n",
       "      <th>housing</th>\n",
       "      <th>loan</th>\n",
       "      <th>contact</th>\n",
       "      <th>day</th>\n",
       "      <th>month</th>\n",
       "      <th>duration</th>\n",
       "      <th>campaign</th>\n",
       "      <th>pdays</th>\n",
       "      <th>previous</th>\n",
       "      <th>poutcome</th>\n",
       "      <th>y</th>\n",
       "    </tr>\n",
       "  </thead>\n",
       "  <tbody>\n",
       "    <tr>\n",
       "      <th>0</th>\n",
       "      <td>58</td>\n",
       "      <td>management</td>\n",
       "      <td>married</td>\n",
       "      <td>tertiary</td>\n",
       "      <td>no</td>\n",
       "      <td>2143</td>\n",
       "      <td>yes</td>\n",
       "      <td>no</td>\n",
       "      <td>unknown</td>\n",
       "      <td>5</td>\n",
       "      <td>may</td>\n",
       "      <td>261</td>\n",
       "      <td>1</td>\n",
       "      <td>-1</td>\n",
       "      <td>0</td>\n",
       "      <td>unknown</td>\n",
       "      <td>no</td>\n",
       "    </tr>\n",
       "    <tr>\n",
       "      <th>1</th>\n",
       "      <td>44</td>\n",
       "      <td>technician</td>\n",
       "      <td>single</td>\n",
       "      <td>secondary</td>\n",
       "      <td>no</td>\n",
       "      <td>29</td>\n",
       "      <td>yes</td>\n",
       "      <td>no</td>\n",
       "      <td>unknown</td>\n",
       "      <td>5</td>\n",
       "      <td>may</td>\n",
       "      <td>151</td>\n",
       "      <td>1</td>\n",
       "      <td>-1</td>\n",
       "      <td>0</td>\n",
       "      <td>unknown</td>\n",
       "      <td>no</td>\n",
       "    </tr>\n",
       "    <tr>\n",
       "      <th>2</th>\n",
       "      <td>33</td>\n",
       "      <td>entrepreneur</td>\n",
       "      <td>married</td>\n",
       "      <td>secondary</td>\n",
       "      <td>no</td>\n",
       "      <td>2</td>\n",
       "      <td>yes</td>\n",
       "      <td>yes</td>\n",
       "      <td>unknown</td>\n",
       "      <td>5</td>\n",
       "      <td>may</td>\n",
       "      <td>76</td>\n",
       "      <td>1</td>\n",
       "      <td>-1</td>\n",
       "      <td>0</td>\n",
       "      <td>unknown</td>\n",
       "      <td>no</td>\n",
       "    </tr>\n",
       "    <tr>\n",
       "      <th>3</th>\n",
       "      <td>47</td>\n",
       "      <td>blue-collar</td>\n",
       "      <td>married</td>\n",
       "      <td>unknown</td>\n",
       "      <td>no</td>\n",
       "      <td>1506</td>\n",
       "      <td>yes</td>\n",
       "      <td>no</td>\n",
       "      <td>unknown</td>\n",
       "      <td>5</td>\n",
       "      <td>may</td>\n",
       "      <td>92</td>\n",
       "      <td>1</td>\n",
       "      <td>-1</td>\n",
       "      <td>0</td>\n",
       "      <td>unknown</td>\n",
       "      <td>no</td>\n",
       "    </tr>\n",
       "    <tr>\n",
       "      <th>4</th>\n",
       "      <td>33</td>\n",
       "      <td>unknown</td>\n",
       "      <td>single</td>\n",
       "      <td>unknown</td>\n",
       "      <td>no</td>\n",
       "      <td>1</td>\n",
       "      <td>no</td>\n",
       "      <td>no</td>\n",
       "      <td>unknown</td>\n",
       "      <td>5</td>\n",
       "      <td>may</td>\n",
       "      <td>198</td>\n",
       "      <td>1</td>\n",
       "      <td>-1</td>\n",
       "      <td>0</td>\n",
       "      <td>unknown</td>\n",
       "      <td>no</td>\n",
       "    </tr>\n",
       "  </tbody>\n",
       "</table>\n",
       "</div>"
      ],
      "text/plain": [
       "   age           job  marital  education  ... pdays  previous poutcome   y\n",
       "0   58    management  married   tertiary  ...    -1         0  unknown  no\n",
       "1   44    technician   single  secondary  ...    -1         0  unknown  no\n",
       "2   33  entrepreneur  married  secondary  ...    -1         0  unknown  no\n",
       "3   47   blue-collar  married    unknown  ...    -1         0  unknown  no\n",
       "4   33       unknown   single    unknown  ...    -1         0  unknown  no\n",
       "\n",
       "[5 rows x 17 columns]"
      ]
     },
     "execution_count": 4,
     "metadata": {
      "tags": []
     },
     "output_type": "execute_result"
    }
   ],
   "source": [
    "df.head()"
   ]
  },
  {
   "cell_type": "markdown",
   "metadata": {
    "id": "esOnbqsQWSr7"
   },
   "source": [
    "age: (numeric)\n",
    "\n",
    "job: type of job (categorical)\n",
    "\n",
    "\n",
    "marital: marital status (categorical: 'divorced','married','single','unknown'; note: 'divorced' means divorced or widowed)\n",
    "\n",
    "\n",
    "education: (categorical)\n",
    "\n",
    "\n",
    "default: has credit in default? (categorical: 'no','yes','unknown')\n",
    "\n",
    "\n",
    "housing: has housing loan? (categorical: 'no','yes','unknown')\n",
    "\n",
    "\n",
    "loan: has personal loan? (categorical: 'no','yes','unknown')\n",
    "\n",
    "\n",
    "balance: deposit amount (numeric)\n",
    "\n",
    "\n",
    "contact: contact communication type (categorical: 'cellular','telephone')\n",
    "\n",
    "\n",
    "month: last contact month of year (categorical: 'jan', 'feb', 'mar', ..., 'nov', 'dec')\n",
    "\n",
    "\n",
    "\n",
    "\n",
    "day: last contact day (numeric)\n",
    "\n",
    "\n",
    "duration: last contact duration, in seconds (numeric)\n",
    "\n",
    "campaign: number of contacts performed during this campaign and for this client (numeric, includes last contact)\n",
    "\n",
    "\n",
    "pdays: number of days that passed by after the client was last contacted from a previous campaign (numeric)\n",
    "\n",
    "\n",
    "previous: number of contacts performed before this campaign and for this client (numeric)\n",
    "\n",
    "\n",
    "poutcome: outcome of the previous marketing campaign (categorical: 'failure','nonexistent','success')\n",
    "\n",
    "deposit: has the client subscribed a term deposit? (binary: 'yes','no')"
   ]
  },
  {
   "cell_type": "code",
   "execution_count": 5,
   "metadata": {
    "colab": {
     "base_uri": "https://localhost:8080/"
    },
    "id": "wFDQV0SFXjbX",
    "outputId": "dc98d438-c9cc-488d-b1c9-5ed1ce855c83"
   },
   "outputs": [
    {
     "name": "stdout",
     "output_type": "stream",
     "text": [
      "<class 'pandas.core.frame.DataFrame'>\n",
      "RangeIndex: 45211 entries, 0 to 45210\n",
      "Data columns (total 17 columns):\n",
      " #   Column     Non-Null Count  Dtype \n",
      "---  ------     --------------  ----- \n",
      " 0   age        45211 non-null  int64 \n",
      " 1   job        45211 non-null  object\n",
      " 2   marital    45211 non-null  object\n",
      " 3   education  45211 non-null  object\n",
      " 4   default    45211 non-null  object\n",
      " 5   balance    45211 non-null  int64 \n",
      " 6   housing    45211 non-null  object\n",
      " 7   loan       45211 non-null  object\n",
      " 8   contact    45211 non-null  object\n",
      " 9   day        45211 non-null  int64 \n",
      " 10  month      45211 non-null  object\n",
      " 11  duration   45211 non-null  int64 \n",
      " 12  campaign   45211 non-null  int64 \n",
      " 13  pdays      45211 non-null  int64 \n",
      " 14  previous   45211 non-null  int64 \n",
      " 15  poutcome   45211 non-null  object\n",
      " 16  y          45211 non-null  object\n",
      "dtypes: int64(7), object(10)\n",
      "memory usage: 5.9+ MB\n"
     ]
    }
   ],
   "source": [
    "df.info()"
   ]
  },
  {
   "cell_type": "markdown",
   "metadata": {
    "id": "DEnjCIWWXzoz"
   },
   "source": [
    "There are no nulls values\n"
   ]
  },
  {
   "cell_type": "code",
   "execution_count": 6,
   "metadata": {
    "colab": {
     "base_uri": "https://localhost:8080/",
     "height": 297
    },
    "id": "Wa3X_S0ZXse6",
    "outputId": "ed064253-e4b4-4468-dc55-a1c9b3eade91"
   },
   "outputs": [
    {
     "data": {
      "text/html": [
       "<div>\n",
       "<style scoped>\n",
       "    .dataframe tbody tr th:only-of-type {\n",
       "        vertical-align: middle;\n",
       "    }\n",
       "\n",
       "    .dataframe tbody tr th {\n",
       "        vertical-align: top;\n",
       "    }\n",
       "\n",
       "    .dataframe thead th {\n",
       "        text-align: right;\n",
       "    }\n",
       "</style>\n",
       "<table border=\"1\" class=\"dataframe\">\n",
       "  <thead>\n",
       "    <tr style=\"text-align: right;\">\n",
       "      <th></th>\n",
       "      <th>age</th>\n",
       "      <th>balance</th>\n",
       "      <th>day</th>\n",
       "      <th>duration</th>\n",
       "      <th>campaign</th>\n",
       "      <th>pdays</th>\n",
       "      <th>previous</th>\n",
       "    </tr>\n",
       "  </thead>\n",
       "  <tbody>\n",
       "    <tr>\n",
       "      <th>count</th>\n",
       "      <td>45211.000000</td>\n",
       "      <td>45211.000000</td>\n",
       "      <td>45211.000000</td>\n",
       "      <td>45211.000000</td>\n",
       "      <td>45211.000000</td>\n",
       "      <td>45211.000000</td>\n",
       "      <td>45211.000000</td>\n",
       "    </tr>\n",
       "    <tr>\n",
       "      <th>mean</th>\n",
       "      <td>40.936210</td>\n",
       "      <td>1362.272058</td>\n",
       "      <td>15.806419</td>\n",
       "      <td>258.163080</td>\n",
       "      <td>2.763841</td>\n",
       "      <td>40.197828</td>\n",
       "      <td>0.580323</td>\n",
       "    </tr>\n",
       "    <tr>\n",
       "      <th>std</th>\n",
       "      <td>10.618762</td>\n",
       "      <td>3044.765829</td>\n",
       "      <td>8.322476</td>\n",
       "      <td>257.527812</td>\n",
       "      <td>3.098021</td>\n",
       "      <td>100.128746</td>\n",
       "      <td>2.303441</td>\n",
       "    </tr>\n",
       "    <tr>\n",
       "      <th>min</th>\n",
       "      <td>18.000000</td>\n",
       "      <td>-8019.000000</td>\n",
       "      <td>1.000000</td>\n",
       "      <td>0.000000</td>\n",
       "      <td>1.000000</td>\n",
       "      <td>-1.000000</td>\n",
       "      <td>0.000000</td>\n",
       "    </tr>\n",
       "    <tr>\n",
       "      <th>25%</th>\n",
       "      <td>33.000000</td>\n",
       "      <td>72.000000</td>\n",
       "      <td>8.000000</td>\n",
       "      <td>103.000000</td>\n",
       "      <td>1.000000</td>\n",
       "      <td>-1.000000</td>\n",
       "      <td>0.000000</td>\n",
       "    </tr>\n",
       "    <tr>\n",
       "      <th>50%</th>\n",
       "      <td>39.000000</td>\n",
       "      <td>448.000000</td>\n",
       "      <td>16.000000</td>\n",
       "      <td>180.000000</td>\n",
       "      <td>2.000000</td>\n",
       "      <td>-1.000000</td>\n",
       "      <td>0.000000</td>\n",
       "    </tr>\n",
       "    <tr>\n",
       "      <th>75%</th>\n",
       "      <td>48.000000</td>\n",
       "      <td>1428.000000</td>\n",
       "      <td>21.000000</td>\n",
       "      <td>319.000000</td>\n",
       "      <td>3.000000</td>\n",
       "      <td>-1.000000</td>\n",
       "      <td>0.000000</td>\n",
       "    </tr>\n",
       "    <tr>\n",
       "      <th>max</th>\n",
       "      <td>95.000000</td>\n",
       "      <td>102127.000000</td>\n",
       "      <td>31.000000</td>\n",
       "      <td>4918.000000</td>\n",
       "      <td>63.000000</td>\n",
       "      <td>871.000000</td>\n",
       "      <td>275.000000</td>\n",
       "    </tr>\n",
       "  </tbody>\n",
       "</table>\n",
       "</div>"
      ],
      "text/plain": [
       "                age        balance  ...         pdays      previous\n",
       "count  45211.000000   45211.000000  ...  45211.000000  45211.000000\n",
       "mean      40.936210    1362.272058  ...     40.197828      0.580323\n",
       "std       10.618762    3044.765829  ...    100.128746      2.303441\n",
       "min       18.000000   -8019.000000  ...     -1.000000      0.000000\n",
       "25%       33.000000      72.000000  ...     -1.000000      0.000000\n",
       "50%       39.000000     448.000000  ...     -1.000000      0.000000\n",
       "75%       48.000000    1428.000000  ...     -1.000000      0.000000\n",
       "max       95.000000  102127.000000  ...    871.000000    275.000000\n",
       "\n",
       "[8 rows x 7 columns]"
      ]
     },
     "execution_count": 6,
     "metadata": {
      "tags": []
     },
     "output_type": "execute_result"
    }
   ],
   "source": [
    "df.describe()\n"
   ]
  },
  {
   "cell_type": "code",
   "execution_count": 3,
   "metadata": {
    "colab": {
     "base_uri": "https://localhost:8080/"
    },
    "id": "LcVeXTlgX9gz",
    "outputId": "c32a6aaf-4d9c-45f6-db4c-44beeeeac6c5"
   },
   "outputs": [
    {
     "data": {
      "text/plain": [
       "Int64Index([5, 7, 8, 6, 11, 4, 2, 1, 10, 9, 3, 12], dtype='int64')"
      ]
     },
     "execution_count": 3,
     "metadata": {},
     "output_type": "execute_result"
    }
   ],
   "source": [
    "df['month'] = pd.to_datetime(df['month'], format='%b').dt.month\n",
    "df['month'].value_counts().index"
   ]
  },
  {
   "cell_type": "code",
   "execution_count": 23,
   "metadata": {
    "colab": {
     "base_uri": "https://localhost:8080/",
     "height": 607
    },
    "id": "y70z0tkcaasr",
    "outputId": "b14ff8fe-ca1f-49c3-e4fb-2a2a7c6c0e47"
   },
   "outputs": [
    {
     "data": {
      "image/png": "[encoded data removed]",
      "text/plain": [
       "<Figure size 1440x720 with 9 Axes>"
      ]
     },
     "metadata": {
      "needs_background": "light",
      "tags": []
     },
     "output_type": "display_data"
    }
   ],
   "source": [
    "df.hist(figsize=(20,10), edgecolor='white', color='#00afb9')\n",
    "plt.show()\n",
    "\n"
   ]
  },
  {
   "cell_type": "code",
   "execution_count": 25,
   "metadata": {
    "colab": {
     "base_uri": "https://localhost:8080/",
     "height": 541
    },
    "id": "p-AwdNTgb6Ae",
    "outputId": "cb147758-9e51-4e0f-8e36-203c011b350d"
   },
   "outputs": [
    {
     "data": {
      "image/png": "[encoded data removed]",
      "text/plain": [
       "<Figure size 1008x648 with 2 Axes>"
      ]
     },
     "metadata": {
      "needs_background": "light",
      "tags": []
     },
     "output_type": "display_data"
    }
   ],
   "source": [
    "numbers = df.select_dtypes(['int64', 'float64']).columns.to_list()\n",
    "fig, ax = plt.subplots(figsize=(14,9))\n",
    "sns.heatmap(df[numbers].corr(), vmin=-1, vmax=1, cmap=sns.diverging_palette(20, 220, as_cmap=True), annot=True, linewidths=.5)\n",
    "plt.show()"
   ]
  },
  {
   "cell_type": "markdown",
   "metadata": {
    "id": "Rv9fh7YRcMTI"
   },
   "source": [
    "## STEP 3: EDA and Feature Engineering"
   ]
  },
  {
   "cell_type": "code",
   "execution_count": 4,
   "metadata": {
    "scrolled": true
   },
   "outputs": [
    {
     "data": {
      "text/html": [
       "<div>\n",
       "<style scoped>\n",
       "    .dataframe tbody tr th:only-of-type {\n",
       "        vertical-align: middle;\n",
       "    }\n",
       "\n",
       "    .dataframe tbody tr th {\n",
       "        vertical-align: top;\n",
       "    }\n",
       "\n",
       "    .dataframe thead th {\n",
       "        text-align: right;\n",
       "    }\n",
       "</style>\n",
       "<table border=\"1\" class=\"dataframe\">\n",
       "  <thead>\n",
       "    <tr style=\"text-align: right;\">\n",
       "      <th></th>\n",
       "      <th>age</th>\n",
       "      <th>job</th>\n",
       "      <th>marital</th>\n",
       "      <th>education</th>\n",
       "      <th>default</th>\n",
       "      <th>balance</th>\n",
       "      <th>housing</th>\n",
       "      <th>loan</th>\n",
       "      <th>contact</th>\n",
       "      <th>day</th>\n",
       "      <th>month</th>\n",
       "      <th>duration</th>\n",
       "      <th>campaign</th>\n",
       "      <th>pdays</th>\n",
       "      <th>previous</th>\n",
       "      <th>poutcome</th>\n",
       "      <th>y</th>\n",
       "    </tr>\n",
       "  </thead>\n",
       "  <tbody>\n",
       "    <tr>\n",
       "      <th>0</th>\n",
       "      <td>58</td>\n",
       "      <td>management</td>\n",
       "      <td>married</td>\n",
       "      <td>tertiary</td>\n",
       "      <td>no</td>\n",
       "      <td>2143</td>\n",
       "      <td>yes</td>\n",
       "      <td>no</td>\n",
       "      <td>unknown</td>\n",
       "      <td>5</td>\n",
       "      <td>5</td>\n",
       "      <td>261</td>\n",
       "      <td>1</td>\n",
       "      <td>-1</td>\n",
       "      <td>0</td>\n",
       "      <td>unknown</td>\n",
       "      <td>no</td>\n",
       "    </tr>\n",
       "    <tr>\n",
       "      <th>1</th>\n",
       "      <td>44</td>\n",
       "      <td>technician</td>\n",
       "      <td>single</td>\n",
       "      <td>secondary</td>\n",
       "      <td>no</td>\n",
       "      <td>29</td>\n",
       "      <td>yes</td>\n",
       "      <td>no</td>\n",
       "      <td>unknown</td>\n",
       "      <td>5</td>\n",
       "      <td>5</td>\n",
       "      <td>151</td>\n",
       "      <td>1</td>\n",
       "      <td>-1</td>\n",
       "      <td>0</td>\n",
       "      <td>unknown</td>\n",
       "      <td>no</td>\n",
       "    </tr>\n",
       "    <tr>\n",
       "      <th>2</th>\n",
       "      <td>33</td>\n",
       "      <td>entrepreneur</td>\n",
       "      <td>married</td>\n",
       "      <td>secondary</td>\n",
       "      <td>no</td>\n",
       "      <td>2</td>\n",
       "      <td>yes</td>\n",
       "      <td>yes</td>\n",
       "      <td>unknown</td>\n",
       "      <td>5</td>\n",
       "      <td>5</td>\n",
       "      <td>76</td>\n",
       "      <td>1</td>\n",
       "      <td>-1</td>\n",
       "      <td>0</td>\n",
       "      <td>unknown</td>\n",
       "      <td>no</td>\n",
       "    </tr>\n",
       "    <tr>\n",
       "      <th>3</th>\n",
       "      <td>47</td>\n",
       "      <td>blue-collar</td>\n",
       "      <td>married</td>\n",
       "      <td>unknown</td>\n",
       "      <td>no</td>\n",
       "      <td>1506</td>\n",
       "      <td>yes</td>\n",
       "      <td>no</td>\n",
       "      <td>unknown</td>\n",
       "      <td>5</td>\n",
       "      <td>5</td>\n",
       "      <td>92</td>\n",
       "      <td>1</td>\n",
       "      <td>-1</td>\n",
       "      <td>0</td>\n",
       "      <td>unknown</td>\n",
       "      <td>no</td>\n",
       "    </tr>\n",
       "    <tr>\n",
       "      <th>4</th>\n",
       "      <td>33</td>\n",
       "      <td>unknown</td>\n",
       "      <td>single</td>\n",
       "      <td>unknown</td>\n",
       "      <td>no</td>\n",
       "      <td>1</td>\n",
       "      <td>no</td>\n",
       "      <td>no</td>\n",
       "      <td>unknown</td>\n",
       "      <td>5</td>\n",
       "      <td>5</td>\n",
       "      <td>198</td>\n",
       "      <td>1</td>\n",
       "      <td>-1</td>\n",
       "      <td>0</td>\n",
       "      <td>unknown</td>\n",
       "      <td>no</td>\n",
       "    </tr>\n",
       "  </tbody>\n",
       "</table>\n",
       "</div>"
      ],
      "text/plain": [
       "   age           job  marital  education default  balance housing loan  \\\n",
       "0   58    management  married   tertiary      no     2143     yes   no   \n",
       "1   44    technician   single  secondary      no       29     yes   no   \n",
       "2   33  entrepreneur  married  secondary      no        2     yes  yes   \n",
       "3   47   blue-collar  married    unknown      no     1506     yes   no   \n",
       "4   33       unknown   single    unknown      no        1      no   no   \n",
       "\n",
       "   contact  day  month  duration  campaign  pdays  previous poutcome   y  \n",
       "0  unknown    5      5       261         1     -1         0  unknown  no  \n",
       "1  unknown    5      5       151         1     -1         0  unknown  no  \n",
       "2  unknown    5      5        76         1     -1         0  unknown  no  \n",
       "3  unknown    5      5        92         1     -1         0  unknown  no  \n",
       "4  unknown    5      5       198         1     -1         0  unknown  no  "
      ]
     },
     "execution_count": 4,
     "metadata": {},
     "output_type": "execute_result"
    }
   ],
   "source": [
    "df.head()"
   ]
  },
  {
   "cell_type": "markdown",
   "metadata": {},
   "source": [
    "#### Encoding"
   ]
  },
  {
   "cell_type": "code",
   "execution_count": 8,
   "metadata": {
    "scrolled": true
   },
   "outputs": [
    {
     "name": "stdout",
     "output_type": "stream",
     "text": [
      "Object Columns:  Index(['job', 'marital', 'education', 'default', 'housing', 'loan', 'contact',\n",
      "       'poutcome', 'y'],\n",
      "      dtype='object')\n"
     ]
    }
   ],
   "source": [
    "# returning object cols\n",
    "print(\"Object Columns: \", df.select_dtypes(include = [\"object\"]).columns)"
   ]
  },
  {
   "cell_type": "code",
   "execution_count": 4,
   "metadata": {},
   "outputs": [],
   "source": [
    "# Splitting object columns for encoding and naming as obj_df\n",
    "obj_df = df[['job', 'marital', 'education', 'default', 'housing', 'loan', 'contact',\n",
    "       'poutcome', 'y']]"
   ]
  },
  {
   "cell_type": "code",
   "execution_count": 10,
   "metadata": {
    "scrolled": true
   },
   "outputs": [
    {
     "name": "stdout",
     "output_type": "stream",
     "text": [
      "Unique Values for  job          \n",
      "blue-collar      9732\n",
      "management       9458\n",
      "technician       7597\n",
      "admin.           5171\n",
      "services         4154\n",
      "retired          2264\n",
      "self-employed    1579\n",
      "entrepreneur     1487\n",
      "unemployed       1303\n",
      "housemaid        1240\n",
      "student           938\n",
      "unknown           288\n",
      "dtype: int64\n",
      "Unique Values for  marital \n",
      "married     27214\n",
      "single      12790\n",
      "divorced     5207\n",
      "dtype: int64\n",
      "Unique Values for  education\n",
      "secondary    23202\n",
      "tertiary     13301\n",
      "primary       6851\n",
      "unknown       1857\n",
      "dtype: int64\n",
      "Unique Values for  default\n",
      "no         44396\n",
      "yes          815\n",
      "dtype: int64\n",
      "Unique Values for  housing\n",
      "yes        25130\n",
      "no         20081\n",
      "dtype: int64\n",
      "Unique Values for  loan\n",
      "no      37967\n",
      "yes      7244\n",
      "dtype: int64\n",
      "Unique Values for  contact  \n",
      "cellular     29285\n",
      "unknown      13020\n",
      "telephone     2906\n",
      "dtype: int64\n",
      "Unique Values for  poutcome\n",
      "unknown     36959\n",
      "failure      4901\n",
      "other        1840\n",
      "success      1511\n",
      "dtype: int64\n",
      "Unique Values for  y  \n",
      "no     39922\n",
      "yes     5289\n",
      "dtype: int64\n"
     ]
    }
   ],
   "source": [
    "for i in obj_df:\n",
    "    i = obj_df[[i]].value_counts()\n",
    "    print(\"Unique Values for \",i)"
   ]
  },
  {
   "cell_type": "markdown",
   "metadata": {},
   "source": [
    "* Let's start to encode with y.\n",
    "* I am going to encode unknown values as `np.nan`, and later I am going to replace them with the sklearn's `SimpleImputer`"
   ]
  },
  {
   "cell_type": "code",
   "execution_count": 5,
   "metadata": {},
   "outputs": [],
   "source": [
    "# encoding y\n",
    "obj_df = obj_df.replace({\"y\":{\"no\":0,\"yes\":1}})\n",
    "# encoding poutcome\n",
    "obj_df = obj_df.replace({\"poutcome\":{\"unknown\":np.nan,\"failure\":0, \"other\":1, \"success\":2}})\n",
    "# encoding contact\n",
    "obj_df = obj_df.replace({\"contact\":{\"cellular\":0, \"unknown\":np.nan, \"telephone\":1}})\n",
    "# encoding loan\n",
    "obj_df = obj_df.replace({\"loan\":{\"no\":0,\"yes\":1}})\n",
    "# encoding housing\n",
    "obj_df = obj_df.replace({\"housing\":{\"no\":0,\"yes\":1}})\n",
    "# encoding default\n",
    "obj_df = obj_df.replace({\"default\":{\"no\":0,\"yes\":1}})\n",
    "# encoding education\n",
    "obj_df = obj_df.replace({\"education\":{\"unknown\":np.nan,\"secondary\":0, \"tertiary\":1, \"primary\":2}})\n",
    "# encoding marital\n",
    "obj_df = obj_df.replace({\"marital\":{\"married\":0, \"single\":1, \"divorced\":1}})\n",
    "# encoding job\n",
    "obj_df = obj_df.replace({\"job\":{\"unknown\":np.nan,\"blue-collar\":0, \"management\":1, \"technician\":2,\n",
    "                               \"admin.\":3, \"services\": 4, \"retired\": 5, \"self-employed\":6,\n",
    "                               \"entrepreneur\": 7, \"unemployed\": 8, \"housemaid\": 9, \"student\":10}})"
   ]
  },
  {
   "cell_type": "code",
   "execution_count": 6,
   "metadata": {
    "scrolled": false
   },
   "outputs": [
    {
     "name": "stdout",
     "output_type": "stream",
     "text": [
      "   job  marital  education  default  housing  loan  contact  poutcome  y\n",
      "0  1.0        0        1.0        0        1     0      NaN       NaN  0\n",
      "1  2.0        1        0.0        0        1     0      NaN       NaN  0\n",
      "2  7.0        0        0.0        0        1     1      NaN       NaN  0\n"
     ]
    },
    {
     "data": {
      "text/plain": [
       "job          float64\n",
       "marital        int64\n",
       "education    float64\n",
       "default        int64\n",
       "housing        int64\n",
       "loan           int64\n",
       "contact      float64\n",
       "poutcome     float64\n",
       "y              int64\n",
       "dtype: object"
      ]
     },
     "execution_count": 6,
     "metadata": {},
     "output_type": "execute_result"
    }
   ],
   "source": [
    "print(obj_df.head(3))\n",
    "obj_df.dtypes"
   ]
  },
  {
   "cell_type": "markdown",
   "metadata": {},
   "source": [
    "#### Replacing Na Values\n",
    "* I am going to replace Na values with sklearn's `SimpleImputer` by the most frequent values in each column.(e.g. Na value in education column with secondary)\n",
    "    * I am doing that way because our data is categorical data. Thus, I can not replace Na values with mean or std because mean & std return float numbers.\n",
    "    * Replacing the Na values with most frequent values could create outliers; no worries, I am going to get rid of all outliers.\n"
   ]
  },
  {
   "cell_type": "code",
   "execution_count": 6,
   "metadata": {},
   "outputs": [],
   "source": [
    "from sklearn.impute import SimpleImputer\n",
    "imr = SimpleImputer(missing_values=np.nan, strategy='most_frequent')\n",
    "\n",
    "imr = imr.fit(obj_df)\n",
    "imputed_data = imr.transform(obj_df)\n",
    "obj_df = pd.DataFrame(imputed_data)\n",
    "# As SimpleImputer removes all column names as indexes, I am going to rename them.\n",
    "obj_df = obj_df.rename(columns = {0:'job' ,1:'marital' ,2:'education' , 3:'default' ,\n",
    "                                  4:'housing' , 5:'loan' ,6:'contact'\n",
    "                                  , 7:'poutcome' , 8:'y' })"
   ]
  },
  {
   "cell_type": "code",
   "execution_count": 7,
   "metadata": {
    "scrolled": true
   },
   "outputs": [
    {
     "name": "stdout",
     "output_type": "stream",
     "text": [
      "First 3 rows of  obj_df:     job  marital  education  default  housing  loan  contact  poutcome    y\n",
      "0  1.0      0.0        1.0      0.0      1.0   0.0      0.0       0.0  0.0\n",
      "1  2.0      1.0        0.0      0.0      1.0   0.0      0.0       0.0  0.0\n",
      "2  7.0      0.0        0.0      0.0      1.0   1.0      0.0       0.0  0.0\n",
      "Is there any Na values in obj_df: False\n"
     ]
    }
   ],
   "source": [
    "print(\"First 3 rows of  obj_df: \",obj_df.head(3))\n",
    "print(\"Is there any Na values in obj_df:\", obj_df.isnull().values.any())"
   ]
  },
  {
   "cell_type": "markdown",
   "metadata": {},
   "source": [
    "* Now, it is time to join obj_df with df. As we have unencoded versions of obj_df in df, I am going to drop those columns."
   ]
  },
  {
   "cell_type": "code",
   "execution_count": 8,
   "metadata": {},
   "outputs": [
    {
     "data": {
      "text/plain": [
       "age         int64\n",
       "balance     int64\n",
       "day         int64\n",
       "month       int64\n",
       "duration    int64\n",
       "campaign    int64\n",
       "pdays       int64\n",
       "previous    int64\n",
       "dtype: object"
      ]
     },
     "execution_count": 8,
     "metadata": {},
     "output_type": "execute_result"
    }
   ],
   "source": [
    "# dropping encoded columns\n",
    "df = df.drop(columns = ['job', 'marital', 'education', 'default', 'housing', 'loan', 'contact',\n",
    "       'poutcome', 'y'])\n",
    "df.dtypes"
   ]
  },
  {
   "cell_type": "code",
   "execution_count": 9,
   "metadata": {
    "scrolled": true
   },
   "outputs": [
    {
     "name": "stdout",
     "output_type": "stream",
     "text": [
      "Is there any Na values in rawy:  False\n",
      "Shape of rawy:  (45211, 17)\n"
     ]
    },
    {
     "data": {
      "text/html": [
       "<div>\n",
       "<style scoped>\n",
       "    .dataframe tbody tr th:only-of-type {\n",
       "        vertical-align: middle;\n",
       "    }\n",
       "\n",
       "    .dataframe tbody tr th {\n",
       "        vertical-align: top;\n",
       "    }\n",
       "\n",
       "    .dataframe thead th {\n",
       "        text-align: right;\n",
       "    }\n",
       "</style>\n",
       "<table border=\"1\" class=\"dataframe\">\n",
       "  <thead>\n",
       "    <tr style=\"text-align: right;\">\n",
       "      <th></th>\n",
       "      <th>age</th>\n",
       "      <th>balance</th>\n",
       "      <th>day</th>\n",
       "      <th>month</th>\n",
       "      <th>duration</th>\n",
       "      <th>campaign</th>\n",
       "      <th>pdays</th>\n",
       "      <th>previous</th>\n",
       "      <th>job</th>\n",
       "      <th>marital</th>\n",
       "      <th>education</th>\n",
       "      <th>default</th>\n",
       "      <th>housing</th>\n",
       "      <th>loan</th>\n",
       "      <th>contact</th>\n",
       "      <th>poutcome</th>\n",
       "      <th>y</th>\n",
       "    </tr>\n",
       "  </thead>\n",
       "  <tbody>\n",
       "    <tr>\n",
       "      <th>0</th>\n",
       "      <td>58</td>\n",
       "      <td>2143</td>\n",
       "      <td>5</td>\n",
       "      <td>5</td>\n",
       "      <td>261</td>\n",
       "      <td>1</td>\n",
       "      <td>-1</td>\n",
       "      <td>0</td>\n",
       "      <td>1.0</td>\n",
       "      <td>0.0</td>\n",
       "      <td>1.0</td>\n",
       "      <td>0.0</td>\n",
       "      <td>1.0</td>\n",
       "      <td>0.0</td>\n",
       "      <td>0.0</td>\n",
       "      <td>0.0</td>\n",
       "      <td>0.0</td>\n",
       "    </tr>\n",
       "    <tr>\n",
       "      <th>1</th>\n",
       "      <td>44</td>\n",
       "      <td>29</td>\n",
       "      <td>5</td>\n",
       "      <td>5</td>\n",
       "      <td>151</td>\n",
       "      <td>1</td>\n",
       "      <td>-1</td>\n",
       "      <td>0</td>\n",
       "      <td>2.0</td>\n",
       "      <td>1.0</td>\n",
       "      <td>0.0</td>\n",
       "      <td>0.0</td>\n",
       "      <td>1.0</td>\n",
       "      <td>0.0</td>\n",
       "      <td>0.0</td>\n",
       "      <td>0.0</td>\n",
       "      <td>0.0</td>\n",
       "    </tr>\n",
       "    <tr>\n",
       "      <th>2</th>\n",
       "      <td>33</td>\n",
       "      <td>2</td>\n",
       "      <td>5</td>\n",
       "      <td>5</td>\n",
       "      <td>76</td>\n",
       "      <td>1</td>\n",
       "      <td>-1</td>\n",
       "      <td>0</td>\n",
       "      <td>7.0</td>\n",
       "      <td>0.0</td>\n",
       "      <td>0.0</td>\n",
       "      <td>0.0</td>\n",
       "      <td>1.0</td>\n",
       "      <td>1.0</td>\n",
       "      <td>0.0</td>\n",
       "      <td>0.0</td>\n",
       "      <td>0.0</td>\n",
       "    </tr>\n",
       "  </tbody>\n",
       "</table>\n",
       "</div>"
      ],
      "text/plain": [
       "   age  balance  day  month  duration  campaign  pdays  previous  job  \\\n",
       "0   58     2143    5      5       261         1     -1         0  1.0   \n",
       "1   44       29    5      5       151         1     -1         0  2.0   \n",
       "2   33        2    5      5        76         1     -1         0  7.0   \n",
       "\n",
       "   marital  education  default  housing  loan  contact  poutcome    y  \n",
       "0      0.0        1.0      0.0      1.0   0.0      0.0       0.0  0.0  \n",
       "1      1.0        0.0      0.0      1.0   0.0      0.0       0.0  0.0  \n",
       "2      0.0        0.0      0.0      1.0   1.0      0.0       0.0  0.0  "
      ]
     },
     "execution_count": 9,
     "metadata": {},
     "output_type": "execute_result"
    }
   ],
   "source": [
    "# joining df & obj_df\n",
    "rawy= df.join(obj_df)\n",
    "print(\"Is there any Na values in rawy: \", rawy.isnull().values.any())\n",
    "print(\"Shape of rawy: \", rawy.shape)\n",
    "rawy.head(3)"
   ]
  },
  {
   "cell_type": "markdown",
   "metadata": {},
   "source": [
    "#### Imbalance Dataset Problem"
   ]
  },
  {
   "cell_type": "markdown",
   "metadata": {},
   "source": [
    "* Let's plot rawy and see whether it is an imbalanced dataset or not."
   ]
  },
  {
   "cell_type": "code",
   "execution_count": 98,
   "metadata": {},
   "outputs": [
    {
     "data": {
      "text/plain": [
       "(45211, 17)"
      ]
     },
     "execution_count": 98,
     "metadata": {},
     "output_type": "execute_result"
    }
   ],
   "source": [
    "rawy.shape"
   ]
  },
  {
   "cell_type": "code",
   "execution_count": 12,
   "metadata": {},
   "outputs": [
    {
     "data": {
      "text/plain": [
       "array([[<AxesSubplot:title={'center':'age'}>,\n",
       "        <AxesSubplot:title={'center':'balance'}>,\n",
       "        <AxesSubplot:title={'center':'day'}>,\n",
       "        <AxesSubplot:title={'center':'month'}>],\n",
       "       [<AxesSubplot:title={'center':'duration'}>,\n",
       "        <AxesSubplot:title={'center':'campaign'}>,\n",
       "        <AxesSubplot:title={'center':'pdays'}>,\n",
       "        <AxesSubplot:title={'center':'previous'}>],\n",
       "       [<AxesSubplot:title={'center':'job'}>,\n",
       "        <AxesSubplot:title={'center':'marital'}>,\n",
       "        <AxesSubplot:title={'center':'education'}>,\n",
       "        <AxesSubplot:title={'center':'default'}>],\n",
       "       [<AxesSubplot:title={'center':'housing'}>,\n",
       "        <AxesSubplot:title={'center':'loan'}>,\n",
       "        <AxesSubplot:title={'center':'contact'}>,\n",
       "        <AxesSubplot:title={'center':'poutcome'}>],\n",
       "       [<AxesSubplot:title={'center':'y'}>, <AxesSubplot:>,\n",
       "        <AxesSubplot:>, <AxesSubplot:>]], dtype=object)"
      ]
     },
     "execution_count": 12,
     "metadata": {},
     "output_type": "execute_result"
    },
    {
     "data": {
      "image/png": "[encoded data removed]",
      "text/plain": [
       "<Figure size 1152x864 with 20 Axes>"
      ]
     },
     "metadata": {
      "needs_background": "light"
     },
     "output_type": "display_data"
    }
   ],
   "source": [
    "rawy.hist(bins = 30, figsize = (16,12))"
   ]
  },
  {
   "cell_type": "markdown",
   "metadata": {},
   "source": [
    "* It is an imbalanced dataset, especially the following columns = `balance`, `month`, `duration`, `campaign`, `pdays`, `previous`, `default`, `loan`, `contact`, `poutcome`\n",
    "*  Did you see the `y` column ? It is the desired output and look at it's shape. Msost probably, it is produced by the evaluation outcome of `accuracy`metric. Imbalanced dataset like ours are not suitable for the evaluation metrics like [accuracy.](https://machinelearningmastery.com/tactics-to-combat-imbalanced-classes-in-your-machine-learning-dataset/) Instead, ROC AUC Score or F1 Scores could be good choices for evaluation.\n",
    "* This is actually what I am going to do; \n",
    "    * First, I'll try to balance our dataset by undersampling methods.\n",
    "        * The methods that I am going to use are: RandomUnderSampler and Near Miss Undersampling.\n",
    "    * Then, I am going to select our M.L. model from the models that are less effected by inbalanced datasets such as DecisionTree Classifier or RandomForestRegressor.\n",
    "    * Finally, I am going to set model evaluation metric as either F1 Score or ROC AUC Score."
   ]
  },
  {
   "cell_type": "markdown",
   "metadata": {},
   "source": [
    "**Random Undersampling** <br>\n",
    "* Random undersampling involves randomly selecting examples from the majority class and deleting them from the training dataset. In the random under-sampling, the majority class instances are discarded at random until a more balanced distribution is reached."
   ]
  },
  {
   "cell_type": "code",
   "execution_count": 11,
   "metadata": {
    "scrolled": true
   },
   "outputs": [
    {
     "name": "stdout",
     "output_type": "stream",
     "text": [
      "Summarized Class Distribution before Undersampling:  Counter({0.0: 39922, 1.0: 5289})\n",
      "Summarized Class Distribution after Undersampling:  Counter({0.0: 5289, 1.0: 5289})\n"
     ]
    },
    {
     "data": {
      "image/png": "[encoded data removed]",
      "text/plain": [
       "<Figure size 432x288 with 1 Axes>"
      ]
     },
     "metadata": {
      "needs_background": "light"
     },
     "output_type": "display_data"
    }
   ],
   "source": [
    "from sklearn.model_selection import cross_val_score\n",
    "from collections import Counter\n",
    "from sklearn.model_selection import RepeatedStratifiedKFold\n",
    "from imblearn.under_sampling import RandomUnderSampler\n",
    "from numpy import mean, where\n",
    "\n",
    "# Summarized Class Distribution\n",
    "counter = Counter(rawy[\"y\"])\n",
    "print(\"Summarized Class Distribution before Undersampling: \", counter)\n",
    "# Define the undersampling method\n",
    "undersample = RandomUnderSampler(random_state = 42)\n",
    "# transform the dataset\n",
    "X, y = undersample.fit_resample(rawy.drop(columns = \"y\"),rawy[\"y\"])\n",
    "# Summarize the new class distribution\n",
    "counter = Counter(y)\n",
    "print(\"Summarized Class Distribution after Undersampling: \", counter)\n",
    "# Evaluating Pipeline by plotting it\n",
    "for label, _ in counter.items():\n",
    "    row_ix = where(y == label)[0]\n",
    "    plt.scatter(X.iloc[row_ix, 0], X.iloc[row_ix, 1], label=str(label))\n",
    "plt.legend()\n",
    "plt.show()"
   ]
  },
  {
   "cell_type": "markdown",
   "metadata": {},
   "source": [
    "* We can see that that majority class is undersampled to have the same number of examples as the minority class."
   ]
  },
  {
   "cell_type": "markdown",
   "metadata": {},
   "source": [
    "**Near Miss(3) Undersampling** <br>\n",
    "* NearMiss Undesampling aims to balance class distribution by randomly eliminating majority class examples. When instances of two different classes are very close to each other, we remove the instances of the majority class to increase the spaces between the two classes."
   ]
  },
  {
   "cell_type": "code",
   "execution_count": 12,
   "metadata": {
    "scrolled": false
   },
   "outputs": [
    {
     "name": "stdout",
     "output_type": "stream",
     "text": [
      "Summarized Class Distribution before Undersampling:  Counter({0.0: 39922, 1.0: 5289})\n"
     ]
    },
    {
     "name": "stderr",
     "output_type": "stream",
     "text": [
      "C:\\Users\\talfi\\anaconda3\\lib\\site-packages\\imblearn\\under_sampling\\_prototype_selection\\_nearmiss.py:175: UserWarning: The number of the samples to be selected is larger than the number of samples available. The balancing ratio cannot be ensure and all samples will be returned.\n",
      "  warnings.warn(\n"
     ]
    },
    {
     "name": "stdout",
     "output_type": "stream",
     "text": [
      "Summarized Class Distribution after Undersampling:  Counter({0.0: 8695, 1.0: 5289})\n"
     ]
    },
    {
     "data": {
      "image/png": "[encoded data removed]",
      "text/plain": [
       "<Figure size 432x288 with 1 Axes>"
      ]
     },
     "metadata": {
      "needs_background": "light"
     },
     "output_type": "display_data"
    }
   ],
   "source": [
    "from sklearn.model_selection import cross_val_score\n",
    "from collections import Counter\n",
    "from sklearn.model_selection import RepeatedStratifiedKFold\n",
    "from imblearn.under_sampling import NearMiss\n",
    "from numpy import mean\n",
    "\n",
    "# Summarized Class Distribution\n",
    "counter = Counter(rawy[\"y\"])\n",
    "print(\"Summarized Class Distribution before Undersampling: \", counter)\n",
    "# Define the undersampling method\n",
    "undersample = NearMiss(sampling_strategy = 0.3,version = 3, n_neighbors_ver3 = 3)\n",
    "# transform the dataset\n",
    "X, y = undersample.fit_resample(rawy.drop(columns = \"y\"),rawy[\"y\"])\n",
    "# Summarize the new class distribution\n",
    "counter = Counter(y)\n",
    "print(\"Summarized Class Distribution after Undersampling: \", counter)\n",
    "# Evaluating Pipeline by plotting it\n",
    "for label, _ in counter.items():\n",
    "    row_ix = where(y == label)[0]\n",
    "    plt.scatter(X.iloc[row_ix, 0], X.iloc[row_ix, 1], label=str(label))\n",
    "plt.legend()\n",
    "plt.show()"
   ]
  },
  {
   "cell_type": "markdown",
   "metadata": {},
   "source": [
    "* As expected, we can see that each example in the minority class that was in the region of overlap with the majority class has up to three neighbors from the majority class."
   ]
  },
  {
   "cell_type": "markdown",
   "metadata": {},
   "source": [
    "#### Feature Scaling\n",
    "* As our data has strict upper & lower bounds, I am going to use Normalization instead of standardization.\n",
    "* Normalization also scales the data in it's original shape. This is the other reason for using it for scaling because our data is categorical data & I am going to apply classification algorithm to our data. In that case, normalization will prevent bias.\n",
    "* As y is the target variable, I am going to remove y for feature scaling. "
   ]
  },
  {
   "cell_type": "code",
   "execution_count": 17,
   "metadata": {},
   "outputs": [],
   "source": [
    "#removing y\n",
    "raw = rawy.drop(columns=\"y\")"
   ]
  },
  {
   "cell_type": "markdown",
   "metadata": {},
   "source": [
    "\n",
    "**Normalization**"
   ]
  },
  {
   "cell_type": "code",
   "execution_count": 18,
   "metadata": {},
   "outputs": [],
   "source": [
    "from sklearn.preprocessing import MinMaxScaler# a.k.a. Normalization\n",
    "scaler = MinMaxScaler()\n",
    "scaler.fit(raw)\n",
    "raw_normalize = scaler.transform(raw)\n",
    "raw_normalized = pd.DataFrame(raw_normalize)"
   ]
  },
  {
   "cell_type": "markdown",
   "metadata": {},
   "source": [
    "#### Transformation\n",
    "* For transformation purposes, I am going to use Log Transformation"
   ]
  },
  {
   "cell_type": "code",
   "execution_count": 19,
   "metadata": {},
   "outputs": [],
   "source": [
    "from sklearn.preprocessing import PowerTransformer\n",
    "log = PowerTransformer()\n",
    "log.fit(raw_normalized)\n",
    "raw_transformalize = log.transform(raw_normalize)\n",
    "raw_transformalized = pd.DataFrame(raw_transformalize)"
   ]
  },
  {
   "cell_type": "code",
   "execution_count": 20,
   "metadata": {
    "scrolled": false
   },
   "outputs": [
    {
     "data": {
      "text/html": [
       "<div>\n",
       "<style scoped>\n",
       "    .dataframe tbody tr th:only-of-type {\n",
       "        vertical-align: middle;\n",
       "    }\n",
       "\n",
       "    .dataframe tbody tr th {\n",
       "        vertical-align: top;\n",
       "    }\n",
       "\n",
       "    .dataframe thead th {\n",
       "        text-align: right;\n",
       "    }\n",
       "</style>\n",
       "<table border=\"1\" class=\"dataframe\">\n",
       "  <thead>\n",
       "    <tr style=\"text-align: right;\">\n",
       "      <th></th>\n",
       "      <th>0</th>\n",
       "      <th>1</th>\n",
       "      <th>2</th>\n",
       "      <th>3</th>\n",
       "      <th>4</th>\n",
       "      <th>5</th>\n",
       "      <th>6</th>\n",
       "      <th>7</th>\n",
       "      <th>8</th>\n",
       "      <th>9</th>\n",
       "      <th>10</th>\n",
       "      <th>11</th>\n",
       "      <th>12</th>\n",
       "      <th>13</th>\n",
       "      <th>14</th>\n",
       "      <th>15</th>\n",
       "    </tr>\n",
       "  </thead>\n",
       "  <tbody>\n",
       "    <tr>\n",
       "      <th>0</th>\n",
       "      <td>1.484740</td>\n",
       "      <td>0.918253</td>\n",
       "      <td>-1.333228</td>\n",
       "      <td>-0.444966</td>\n",
       "      <td>0.421659</td>\n",
       "      <td>-1.037276</td>\n",
       "      <td>-0.467895</td>\n",
       "      <td>-0.469277</td>\n",
       "      <td>-0.567670</td>\n",
       "      <td>-0.813212</td>\n",
       "      <td>0.888372</td>\n",
       "      <td>-0.13549</td>\n",
       "      <td>0.893915</td>\n",
       "      <td>-0.436803</td>\n",
       "      <td>-0.262091</td>\n",
       "      <td>-0.282936</td>\n",
       "    </tr>\n",
       "    <tr>\n",
       "      <th>1</th>\n",
       "      <td>0.429975</td>\n",
       "      <td>-0.752042</td>\n",
       "      <td>-1.333228</td>\n",
       "      <td>-0.444966</td>\n",
       "      <td>-0.338211</td>\n",
       "      <td>-1.037276</td>\n",
       "      <td>-0.467895</td>\n",
       "      <td>-0.469277</td>\n",
       "      <td>0.020550</td>\n",
       "      <td>1.229691</td>\n",
       "      <td>-0.880131</td>\n",
       "      <td>-0.13549</td>\n",
       "      <td>0.893915</td>\n",
       "      <td>-0.436803</td>\n",
       "      <td>-0.262091</td>\n",
       "      <td>-0.282936</td>\n",
       "    </tr>\n",
       "    <tr>\n",
       "      <th>2</th>\n",
       "      <td>-0.722011</td>\n",
       "      <td>-0.781658</td>\n",
       "      <td>-1.333228</td>\n",
       "      <td>-0.444966</td>\n",
       "      <td>-1.047380</td>\n",
       "      <td>-1.037276</td>\n",
       "      <td>-0.467895</td>\n",
       "      <td>-0.469277</td>\n",
       "      <td>1.506937</td>\n",
       "      <td>-0.813212</td>\n",
       "      <td>-0.880131</td>\n",
       "      <td>-0.13549</td>\n",
       "      <td>0.893915</td>\n",
       "      <td>2.289359</td>\n",
       "      <td>-0.262091</td>\n",
       "      <td>-0.282936</td>\n",
       "    </tr>\n",
       "    <tr>\n",
       "      <th>3</th>\n",
       "      <td>0.688427</td>\n",
       "      <td>0.528783</td>\n",
       "      <td>-1.333228</td>\n",
       "      <td>-0.444966</td>\n",
       "      <td>-0.880257</td>\n",
       "      <td>-1.037276</td>\n",
       "      <td>-0.467895</td>\n",
       "      <td>-0.469277</td>\n",
       "      <td>-1.356792</td>\n",
       "      <td>-0.813212</td>\n",
       "      <td>-0.880131</td>\n",
       "      <td>-0.13549</td>\n",
       "      <td>0.893915</td>\n",
       "      <td>-0.436803</td>\n",
       "      <td>-0.262091</td>\n",
       "      <td>-0.282936</td>\n",
       "    </tr>\n",
       "    <tr>\n",
       "      <th>4</th>\n",
       "      <td>-0.722011</td>\n",
       "      <td>-0.782760</td>\n",
       "      <td>-1.333228</td>\n",
       "      <td>-0.444966</td>\n",
       "      <td>0.021445</td>\n",
       "      <td>-1.037276</td>\n",
       "      <td>-0.467895</td>\n",
       "      <td>-0.469277</td>\n",
       "      <td>-1.356792</td>\n",
       "      <td>1.229691</td>\n",
       "      <td>-0.880131</td>\n",
       "      <td>-0.13549</td>\n",
       "      <td>-1.118674</td>\n",
       "      <td>-0.436803</td>\n",
       "      <td>-0.262091</td>\n",
       "      <td>-0.282936</td>\n",
       "    </tr>\n",
       "  </tbody>\n",
       "</table>\n",
       "</div>"
      ],
      "text/plain": [
       "         0         1         2         3         4         5         6   \\\n",
       "0  1.484740  0.918253 -1.333228 -0.444966  0.421659 -1.037276 -0.467895   \n",
       "1  0.429975 -0.752042 -1.333228 -0.444966 -0.338211 -1.037276 -0.467895   \n",
       "2 -0.722011 -0.781658 -1.333228 -0.444966 -1.047380 -1.037276 -0.467895   \n",
       "3  0.688427  0.528783 -1.333228 -0.444966 -0.880257 -1.037276 -0.467895   \n",
       "4 -0.722011 -0.782760 -1.333228 -0.444966  0.021445 -1.037276 -0.467895   \n",
       "\n",
       "         7         8         9         10       11        12        13  \\\n",
       "0 -0.469277 -0.567670 -0.813212  0.888372 -0.13549  0.893915 -0.436803   \n",
       "1 -0.469277  0.020550  1.229691 -0.880131 -0.13549  0.893915 -0.436803   \n",
       "2 -0.469277  1.506937 -0.813212 -0.880131 -0.13549  0.893915  2.289359   \n",
       "3 -0.469277 -1.356792 -0.813212 -0.880131 -0.13549  0.893915 -0.436803   \n",
       "4 -0.469277 -1.356792  1.229691 -0.880131 -0.13549 -1.118674 -0.436803   \n",
       "\n",
       "         14        15  \n",
       "0 -0.262091 -0.282936  \n",
       "1 -0.262091 -0.282936  \n",
       "2 -0.262091 -0.282936  \n",
       "3 -0.262091 -0.282936  \n",
       "4 -0.262091 -0.282936  "
      ]
     },
     "execution_count": 20,
     "metadata": {},
     "output_type": "execute_result"
    }
   ],
   "source": [
    "raw_transformalized.head()"
   ]
  },
  {
   "cell_type": "markdown",
   "metadata": {},
   "source": [
    "* Normalization & Transformation removed the column names. Let's rename them."
   ]
  },
  {
   "cell_type": "code",
   "execution_count": 43,
   "metadata": {
    "scrolled": true
   },
   "outputs": [
    {
     "data": {
      "text/plain": [
       "Index(['age', 'balance', 'day', 'month', 'duration', 'campaign', 'pdays',\n",
       "       'previous', 'job', 'marital', 'education', 'default', 'housing', 'loan',\n",
       "       'contact', 'poutcome', 'y'],\n",
       "      dtype='object')"
      ]
     },
     "execution_count": 43,
     "metadata": {},
     "output_type": "execute_result"
    }
   ],
   "source": [
    "raw.columns"
   ]
  },
  {
   "cell_type": "code",
   "execution_count": 21,
   "metadata": {},
   "outputs": [],
   "source": [
    "raw_transformalized = raw_transformalized.rename(columns = {0:'age' ,1:'balance' ,2:'day' ,3:'month' ,\n",
    "                                                           4:'duration' ,5:'campaign' ,6:'pdays' ,7:'previous' ,\n",
    "                                                           8:'job' ,9:'marital' ,10:'education' ,11:'default' ,\n",
    "                                                           12:'housing' ,13:'loan' ,14:'contact' ,15:'poutcome'})"
   ]
  },
  {
   "cell_type": "code",
   "execution_count": 22,
   "metadata": {
    "scrolled": true
   },
   "outputs": [
    {
     "data": {
      "image/png": "[encoded data removed]",
      "text/plain": [
       "<Figure size 1440x360 with 1 Axes>"
      ]
     },
     "metadata": {
      "needs_background": "light"
     },
     "output_type": "display_data"
    }
   ],
   "source": [
    "raw_transformalized.boxplot(figsize = (20,5))\n",
    "plt.show()"
   ]
  },
  {
   "cell_type": "markdown",
   "metadata": {},
   "source": [
    "* There are huge outliers in our df. Now, it is time to remove them."
   ]
  },
  {
   "cell_type": "markdown",
   "metadata": {},
   "source": [
    "#### Removing Outliers"
   ]
  },
  {
   "cell_type": "code",
   "execution_count": 23,
   "metadata": {},
   "outputs": [],
   "source": [
    "y = pd.DataFrame(rawy[\"y\"])\n",
    "banking = raw_transformalized.join(y)"
   ]
  },
  {
   "cell_type": "code",
   "execution_count": 24,
   "metadata": {},
   "outputs": [],
   "source": [
    "for i in banking:\n",
    "    y = banking[\"y\"]\n",
    "    mean = banking[i].mean()\n",
    "    std = banking[i].std()\n",
    "    cut_off = std * 3\n",
    "    lower, upper = mean - cut_off, mean + cut_off\n",
    "    if banking[i] is y:\n",
    "        continue\n",
    "    banking = banking[(banking[i] < upper) & (banking[i] > lower)]"
   ]
  },
  {
   "cell_type": "code",
   "execution_count": 27,
   "metadata": {},
   "outputs": [],
   "source": [
    "# Saving our most recent dataset for model deployment part.\n",
    "banking.to_csv(r'C:\\\\Users\\\\talfi\\\\python\\\\dataglacier\\\\w9\\\\banking.csv', index= False)"
   ]
  },
  {
   "cell_type": "code",
   "execution_count": 34,
   "metadata": {
    "scrolled": false
   },
   "outputs": [
    {
     "data": {
      "text/plain": [
       "(38435, 17)"
      ]
     },
     "execution_count": 34,
     "metadata": {},
     "output_type": "execute_result"
    }
   ],
   "source": [
    "banking.shape"
   ]
  },
  {
   "cell_type": "code",
   "execution_count": 39,
   "metadata": {
    "scrolled": true
   },
   "outputs": [
    {
     "data": {
      "image/png": "[encoded data removed]",
      "text/plain": [
       "<Figure size 1080x720 with 20 Axes>"
      ]
     },
     "metadata": {
      "needs_background": "light"
     },
     "output_type": "display_data"
    }
   ],
   "source": [
    "banking.hist(bins = 30, figsize = (15,10))\n",
    "plt.show()"
   ]
  }
 ],
 "metadata": {
  "colab": {
   "name": "Untitled13.ipynb",
   "provenance": []
  },
  "kernelspec": {
   "display_name": "Python 3",
   "language": "python",
   "name": "python3"
  },
  "language_info": {
   "codemirror_mode": {
    "name": "ipython",
    "version": 3
   },
   "file_extension": ".py",
   "mimetype": "text/x-python",
   "name": "python",
   "nbconvert_exporter": "python",
   "pygments_lexer": "ipython3",
   "version": "3.8.3"
  }
 },
 "nbformat": 4,
 "nbformat_minor": 1
}
